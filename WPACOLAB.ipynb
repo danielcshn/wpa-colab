{
  "cells": [
    {
      "cell_type": "code",
      "source": [
        "################################################################################\n",
        "#                                                                              #\n",
        "#    ██╗    ██╗██████╗  █████╗      ██████╗ ██████╗ ██╗      █████╗ ██████╗    #\n",
        "#    ██║    ██║██╔══██╗██╔══██╗    ██╔════╝██╔═══██╗██║     ██╔══██╗██╔══██╗   #\n",
        "#    ██║ █╗ ██║██████╔╝███████║    ██║     ██║   ██║██║     ███████║██████╔╝   #\n",
        "#    ██║███╗██║██╔═══╝ ██╔══██║    ██║     ██║   ██║██║     ██╔══██║██╔══██╗   #\n",
        "#    ╚███╔███╔╝██║     ██║  ██║    ╚██████╗╚██████╔╝███████╗██║  ██║██████╔╝   #\n",
        "#     ╚══╝╚══╝ ╚═╝     ╚═╝  ╚═╝     ╚═════╝ ╚═════╝ ╚══════╝╚═╝  ╚═╝╚═════╝    #\n",
        "#                                                                              #\n",
        "#    Version: 1.0 (15/01/2022)                                                 #\n",
        "#                                                                              #\n",
        "################################################################################"
      ],
      "metadata": {
        "id": "aHH58tW-IvCV"
      },
      "execution_count": null,
      "outputs": []
    },
    {
      "cell_type": "markdown",
      "source": [
        "# Configure\n",
        "Please change in resources the execution environment type to: GPU"
      ],
      "metadata": {
        "id": "F9o5ORtdOVS7"
      }
    },
    {
      "cell_type": "code",
      "source": [
        "################################################################################\n",
        "#                                                                              #\n",
        "#    LAST TEST:                                                                #\n",
        "#    Hashcat v6.2.5-116-g5e69729f1                                             #\n",
        "#    hcxpcapngtool 6.2.5-22-gdbe1f19                                           #\n",
        "#                                                                              #\n",
        "################################################################################"
      ],
      "metadata": {
        "id": "nlwSAVUScisd"
      },
      "execution_count": null,
      "outputs": []
    },
    {
      "cell_type": "code",
      "execution_count": null,
      "metadata": {
        "id": "ck4JOQO-5a7K"
      },
      "outputs": [],
      "source": [
        "# 1.- Check GPU Specs\n",
        "!nvidia-smi"
      ]
    },
    {
      "cell_type": "code",
      "execution_count": null,
      "metadata": {
        "id": "4AKFeptK5drW"
      },
      "outputs": [],
      "source": [
        "# 2.- Install Hashcat and hcxtools\n",
        "\n",
        "# Clone, build and install Hashcat\n",
        "!apt install cmake build-essential -y\n",
        "!apt install checkinstall git -y\n",
        "!git clone https://github.com/hashcat/hashcat.git\n",
        "!cd hashcat && git submodule update --init && make && make install\n",
        "\n",
        "# Clone, build and install hcxtools\n",
        "!mkdir /root/hcxtools\n",
        "!git clone https://github.com/ZerBea/hcxtools.git\n",
        "!cd hcxtools && make && make install"
      ]
    },
    {
      "cell_type": "code",
      "execution_count": null,
      "metadata": {
        "id": "XHpMgDci5fF2"
      },
      "outputs": [],
      "source": [
        "# OPTIONAL: Check the Hashcat Version to make sure it's installed correctly\n",
        "!hashcat --version\n",
        "# OPTIONAL: Check the Hcxptools Version to make sure it's installed correctly\n",
        "!hcxpcapngtool --version"
      ]
    },
    {
      "cell_type": "markdown",
      "source": [
        "## >> Banchmark (Optional)"
      ],
      "metadata": {
        "id": "jsbga4ZxOgvj"
      }
    },
    {
      "cell_type": "code",
      "execution_count": null,
      "metadata": {
        "id": "jZbEY1W25gTH"
      },
      "outputs": [],
      "source": [
        "# OPTIONAL: Check WPA2 EAPOL Benchmark (change this to check the speed of whichever hash you're cracking)\n",
        "!hashcat -w 4 -m 22000 --benchmark"
      ]
    },
    {
      "cell_type": "markdown",
      "source": [
        "# LOCAL VERSION"
      ],
      "metadata": {
        "id": "43TM--dxXcAb"
      }
    },
    {
      "cell_type": "markdown",
      "source": [
        "## >> Local Upload File\n",
        "Dir CAP: /content/cap_files | Dir HC22000: /content/hc22000_files"
      ],
      "metadata": {
        "id": "DRcqidNeOEQe"
      }
    },
    {
      "cell_type": "code",
      "execution_count": null,
      "metadata": {
        "id": "-Nt81nEE57uK"
      },
      "outputs": [],
      "source": [
        "# 3.- Upload ONLY CAP FILES\n",
        "\n",
        "from google.colab import files\n",
        "!mkdir cap_files\n",
        "!mkdir hc22000_files\n",
        "uploaded = files.upload()\n",
        "\n",
        "for f_name in uploaded.keys():\n",
        "  print('User uploaded file \"{name}\" with length {length} bytes'.format(name=f_name, length=len(uploaded[f_name])))\n",
        "\n",
        "!mv {f_name} \"/content/cap_files/{f_name}\""
      ]
    },
    {
      "cell_type": "code",
      "execution_count": null,
      "metadata": {
        "id": "NDig08R55jYu"
      },
      "outputs": [],
      "source": [
        "# OPTIONAL: Check that your hashes are accessible to Colab\n",
        "\n",
        "!ls /content/cap_files/"
      ]
    },
    {
      "cell_type": "code",
      "source": [
        "# 4.- Convert CAP File to HC22000 file.\n",
        "\n",
        "!hcxpcapngtool -o /content/hc22000_files/test.hc22000 /content/cap_files/cap.cap"
      ],
      "metadata": {
        "id": "0oG9tnTTE597"
      },
      "execution_count": null,
      "outputs": []
    },
    {
      "cell_type": "code",
      "source": [
        "# OPTIONAL: Check that your hashes are accessible to Colab\n",
        "\n",
        "!ls /content/hc22000_files/"
      ],
      "metadata": {
        "id": "Gnx6DwqTg2FW"
      },
      "execution_count": null,
      "outputs": []
    },
    {
      "cell_type": "markdown",
      "source": [
        "## >> Local Brute Force Attack"
      ],
      "metadata": {
        "id": "q2V_0Gd3PK1b"
      }
    },
    {
      "cell_type": "code",
      "execution_count": null,
      "metadata": {
        "id": "rQ98V_PM5k2Z"
      },
      "outputs": [],
      "source": [
        "# 5.- Start pure brute force cracking\n",
        "\n",
        "# Crack with a generate wordlist for charset\n",
        "!hashcat --force -m 22000 -a 3 -w 1 /content/hc22000_files/test.hc22000 014?d?d?d?d?d?d?d --session TEST"
      ]
    },
    {
      "cell_type": "code",
      "source": [
        "# OPTIONAL: Restore session TEST\n",
        "!hashcat --session TEST --restore"
      ],
      "metadata": {
        "id": "7PNA0UfH2lpD"
      },
      "execution_count": null,
      "outputs": []
    },
    {
      "cell_type": "markdown",
      "source": [
        "# GDRIVE VERSION"
      ],
      "metadata": {
        "id": "e-HQzQWrX8V8"
      }
    },
    {
      "cell_type": "markdown",
      "source": [
        "## >> GDrive File \n",
        "Make a directory called 'wpacolab' in your Google Drive before this"
      ],
      "metadata": {
        "id": "zlSVukWFQgMc"
      }
    },
    {
      "cell_type": "code",
      "execution_count": null,
      "metadata": {
        "id": "f_NT_8us5b7w"
      },
      "outputs": [],
      "source": [
        "# 3.- Get CAP file for Google Drive\n",
        "\n",
        "from google.colab import drive\n",
        "drive.mount('/content/drive')\n",
        "!ls /content/drive/My\\ Drive/wpacolab\n",
        "!ln -s /content/drive/My\\ Drive/wpacolab /root/wpacolab"
      ]
    },
    {
      "cell_type": "code",
      "source": [
        "# 4.- Convert CAP File to HC22000 file.\n",
        "\n",
        "!hcxpcapngtool -o /content/drive/MyDrive/hashcolab/test.hc22000 /content/drive/MyDrive/hashcolab/cap.cap"
      ],
      "metadata": {
        "id": "C-SpqZouSHk7"
      },
      "execution_count": null,
      "outputs": []
    },
    {
      "cell_type": "markdown",
      "source": [
        "## >> GDrive Brute Force Attack"
      ],
      "metadata": {
        "id": "8NJmE10KRrCM"
      }
    },
    {
      "cell_type": "code",
      "source": [
        "# 5.- Start pure brute force cracking with a session name\n",
        "\n",
        "# Crack with a generate wordlist for charset\n",
        "!hashcat --force -m 22000 -a 3 -w 1 /content/drive/MyDrive/hashcolab/test.hc22000 ?d?d?d?d?d?d?d --session TEST"
      ],
      "metadata": {
        "id": "4-GKgbE7RyoV"
      },
      "execution_count": null,
      "outputs": []
    },
    {
      "cell_type": "code",
      "source": [
        "# OPTIONAL: Restore session TEST\n",
        "!hashcat --session TEST --restore"
      ],
      "metadata": {
        "id": "yK_2FjfxTc80"
      },
      "execution_count": null,
      "outputs": []
    },
    {
      "cell_type": "markdown",
      "source": [
        "# MULTIPLE WORDLIST USING MASK ATTACK VERSION"
      ],
      "metadata": {
        "id": "ca4HGh4me0er"
      }
    },
    {
      "cell_type": "code",
      "source": [
        "# 5.- Create list of different types of charsets\n",
        "\n",
        "import subprocess\n",
        "import re\n",
        "from tqdm import tqdm\n",
        "is_cracked = False\n",
        "charlist = list()\n",
        "\n",
        "# Characters\n",
        "# \n",
        "# The following built-in character sets exist:\n",
        "# \n",
        "# ?l = abcdefghijklmnopqrstuvwxyz\n",
        "# ?u = ABCDEFGHIJKLMNOPQRSTUVWXYZ\n",
        "# ?d = 0123456789\n",
        "# ?h = 0123456789abcdef\n",
        "# ?H = 0123456789ABCDEF\n",
        "# ?s = «space»!\"#$%&'()*+,-./:;<=>?@[\\]^_`{|}~\n",
        "# ?a = ?l?u?d?s\n",
        "# ?b = 0x00 - 0xff\n",
        "\n",
        "# ?d?d?d?d?d?d?d?d = 00000000 > 99999999\n",
        "charlist.append('?d?d?d?d?d?d?d?d')\n",
        "# ?l?l?l?l?l?l?l?l = aaaaaaaa > zzzzzzzz\n",
        "charlist.append('?l?l?l?l?l?l?l?l')\n",
        "# ?h?h?h?h?h?h?h?h = 00000000 > ffffffff\n",
        "charlist.append('?h?h?h?h?h?h?h?h')\n",
        "# ?H?H?H?H?H?H?H?H = 00000000 > FFFFFFFF\n",
        "charlist.append('?H?H?H?H?H?H?H?H')\n",
        "\n",
        "print(*charlist)"
      ],
      "metadata": {
        "id": "-_qw1OiLe7H9"
      },
      "execution_count": null,
      "outputs": []
    },
    {
      "cell_type": "code",
      "source": [
        "# 6.- Masive Attack\n",
        "\n",
        "def check_if_cracked(command): \n",
        "  output = subprocess.check_output([command + \" --show\"], shell=True).decode()\n",
        "  if len(output) == 0:\n",
        "    return False\n",
        "  else:\n",
        "    return True\n",
        "\n",
        "for wordlist in tqdm(charlist):\n",
        "  command = 'hashcat --force -m 22000 -a 3 -w 1' + ' /content/hc22000_files/test.hc22000 ' + wordlist\n",
        "  subprocess.call([command],shell=True)\n",
        "  if check_if_cracked(command):\n",
        "    is_cracked = True\n",
        "  if is_cracked:\n",
        "    print(\" Password is cracked!!!\")\n",
        "    cracked_password = subprocess.check_output([command + \" --show\"], shell=True).decode()\n",
        "    cracked_password = cracked_password.split(':')[-1]\n",
        "    print(f\" Password : {cracked_password}\")\n",
        "    print(f\" Wordlist used : {wordlist}\")\n",
        "    break\n",
        "  else:\n",
        "    continue\n",
        "  \n",
        "if is_cracked == False:\n",
        "  print(\" Password was not found in charlist.\")\n",
        "else:\n",
        "  pass"
      ],
      "metadata": {
        "id": "QI30dHZsfQ9x"
      },
      "execution_count": null,
      "outputs": []
    }
  ],
  "metadata": {
    "accelerator": "GPU",
    "colab": {
      "name": "WPACOLAB.ipynb",
      "provenance": [],
      "collapsed_sections": [],
      "toc_visible": true
    },
    "kernelspec": {
      "display_name": "Python 3",
      "name": "python3"
    },
    "language_info": {
      "name": "python"
    }
  },
  "nbformat": 4,
  "nbformat_minor": 0
}